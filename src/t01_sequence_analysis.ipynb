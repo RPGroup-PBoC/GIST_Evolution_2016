{
 "cells": [
  {
   "cell_type": "markdown",
   "metadata": {},
   "source": [
    "# Tutorial 1: Basic DNA Sequence Analysis"
   ]
  },
  {
   "cell_type": "markdown",
   "metadata": {},
   "source": [
    "© 2017 Griffin Chure and Soichi Hirokawa. This work is licensed under a [Creative Commons Attribution License CC-BY 4.0](https://creativecommons.org/licenses/by/4.0/). All code contained herein is licensed under an [MIT license](https://opensource.org/licenses/MIT)  "
   ]
  },
  {
   "cell_type": "markdown",
   "metadata": {},
   "source": [
    "--- \n"
   ]
  },
  {
   "cell_type": "markdown",
   "metadata": {},
   "source": [
    "In this tutorial, we'll cover some basics of using Python to read data from a file into memory and how to examine the dispersal patterns of a famous reptile by looking at the sequence of its mitochondrial DNA. "
   ]
  },
  {
   "cell_type": "markdown",
   "metadata": {},
   "source": [
    "##  The curious case of *Mabuya atlantica*"
   ]
  },
  {
   "cell_type": "markdown",
   "metadata": {},
   "source": [
    "Approximately 200 miles off the coast of Brazil exists a small (and quite beautiful) archipelago named [Fernando de Noronha](https://en.wikipedia.org/wiki/Fernando_de_Noronha). The twenty one islands and islets of this archipelago are volcanic in origin and have many endemic plant and animal species. One curious inhabitant of the archipelago is [*Mabuya atlantica*](https://en.wikipedia.org/wiki/Noronha_skink) (also known as the Noronha skink), which is phylogenetically placed along with the African species of *Trachylepis*. Because the archipelago was formed from volcanoes, there was no way that these lizards traveled to the island by land. How did they arrive at the island? In 1888, Alfred Russel Wallace proposed that perhaps the skink arrived on the archipelago by floating on a raft of vegetation across the open ocean, although this trip was estimated to take around 150 days using the knowledge of the oceanic currents from Africa to South America, as is shown in the figure below. \n",
    "\n",
    "![](../images/currents.png)\n",
    "\n",
    "While the exact trajectory of this 'improbable voyage' is still up for debate, the phylogenetic placement of this species is fairly certain. This placement was not performed through morphology but through DNA sequence analysis. In this tutorial, we will use the data from [S. Carranza and E. N. Arnold](http://www.tandfonline.com/doi/abs/10.1017/S1477200003001099?journalCode=tsab20) who sequenced a component of the mitochondrial DNA from a large variety of skinks across the world and from Fernando de Noronha. We will learn how to read in the DNA sequences and score them by the similarity of their sequence to test this hypothesis. "
   ]
  },
  {
   "cell_type": "markdown",
   "metadata": {},
   "source": [
    "##  Loading in sequences"
   ]
  },
  {
   "cell_type": "markdown",
   "metadata": {},
   "source": [
    "Before we can do any sequence comparisons, we must first load the [sequences](http://www.rpgroup.caltech.edu/courses/bi1_2017/data/mabuya_atlantica.zip) from the two text files into our computer to do the analysis. To become familiar with the structure of these documents, let's take a look at them. We can use the shell command `head` to take a look at a small section of the head of the text file. To have access to various shell commands in the Jupyter notebook, we must first type an exclamation point (`!`)."
   ]
  },
  {
   "cell_type": "code",
   "execution_count": null,
   "metadata": {
    "collapsed": false,
    "scrolled": true
   },
   "outputs": [],
   "source": [
    "# Look at the sequences from Fernando de Noronha\n",
    "! head data/mabuya_atlantica/noronha_mabuya.txt"
   ]
  },
  {
   "cell_type": "markdown",
   "metadata": {},
   "source": [
    "This line should give the following output:\n",
    "\n",
    "`>Mabuya atlantica isolate 1, Fernando de Noronha\n",
    "ttgtcttctaaataaagaccagtatgaacggctaaatgaggacaaacctgtctcttttaa\n",
    "ctaatcagtgaaactgatctcccagtacaaaagctgggatacaaacataagacgagaaga\n",
    "ccccgtggagcttaaaacaaaaccaccaatcca--c------gccctgg-accctggtgg\n",
    "actgttttgagttggggcgacttcggaataaaaagaaacttccgagcacagaaccac-aa\n",
    "attctaaccaaggccaacaagcctaagcata---taa-ctgacccggccc--acgccgat\n",
    "caacgaaccaagttaccccggggataacagcgctatcttcttcaagagtccctatcaaca\n",
    "agaaggtttacgacctcgatgttggatcaggacacccaaatggtgcagccgctattaaag\n",
    "gttcgtttgttcaacgatt`"
   ]
  },
  {
   "cell_type": "markdown",
   "metadata": {},
   "source": [
    "We can see that the file begins with a carrot '`>`' followed by some information about that specific sample. This is a standard sequence format known as [FASTA format](https://en.wikipedia.org/wiki/FASTA_format). There are [many sequence storage types](https://www.genomatix.de/online_help/help/sequence_formats.html) used in modern sequence analysis and Biopython [is capable of reading many of them](http://biopython.org/wiki/SeqIO). We can also see from the description that the first sample is the first isolate from the island Fernando de Noronha. Below this line is the actual DNA sequence. This sequence is composed of `atgc` and '`-`'. The letters correspond to the base identity at that position while the dash '`-`' indicates an insertion or deletion when the sequences were aligned to each other (see [this wonderful blog post](http://bitesizebio.com/9445/the-beginners-guide-to-dna-sequence-alignment/) for a primer on DNA alignment). Rather than copying and pasting these sequences into our notebooks to actually do the comparison, we'll use the [popular bioinformatics package Biopython](biopython.org) to load in these sequences.\n",
    "\n",
    "<br />\n",
    "<div class='alert alert-info'>\n",
    "Note that Biopython is not installed with the standard Anaconda distribution. To install it directly from the Jupyter notebook, type the following command into a code cell and hit enter. You should only have to do this once. \n",
    "</div>\n"
   ]
  },
  {
   "cell_type": "code",
   "execution_count": null,
   "metadata": {
    "collapsed": false
   },
   "outputs": [],
   "source": [
    "! conda install biopython --yes"
   ]
  },
  {
   "cell_type": "markdown",
   "metadata": {},
   "source": [
    "Once you have Biopython installed, we can import only the submodule we will use for this tutorial, `Bio.SeqIO`. Note that in future tutorials, we will import all of the modules we will use at the beginning of the Jupyter notebook. "
   ]
  },
  {
   "cell_type": "code",
   "execution_count": 2,
   "metadata": {
    "collapsed": true
   },
   "outputs": [],
   "source": [
    "# Import Biopython for file I/O.\n",
    "import Bio.SeqIO"
   ]
  },
  {
   "cell_type": "markdown",
   "metadata": {},
   "source": [
    "Biopython can be used to do a wide variety of operations on DNA sequences. We will be using it for one rather simple purpose $-$ to load the sequences into memory. To do so, we will need to open the file, tell Biopython to read the contents, and then close the file. We'll first load the sequence from Fernando de Noronha."
   ]
  },
  {
   "cell_type": "code",
   "execution_count": 3,
   "metadata": {
    "collapsed": false
   },
   "outputs": [],
   "source": [
    "# Open the file with sequences from Fernando de Noronha\n",
    "with open('data/mabuya_atlantica/noronha_mabuya.txt', 'r') as seq:\n",
    "    noronha_file = Bio.SeqIO.parse(seq, 'fasta')\n",
    "    noronha_sequences = [record for record in noronha_file]"
   ]
  },
  {
   "cell_type": "markdown",
   "metadata": {},
   "source": [
    "Let's take a second to cover the syntax line-by-line in the above code cell. \n",
    "\n",
    "1. We used a `with` statement to `open` our file for reading only (`'r'`) and assigned it to the variable `seq`.\n",
    "\n",
    "2. Within the `with` block, we used Biopython's [SeqIO.parse](http://biopython.org/wiki/SeqIO) function to read the file. We specified the format as `'fasta'`. This function generates something called a `SeqRecord` iterator which contains the sequence and description for each entry in the file.\n",
    "\n",
    "3. We separated each record in the `SeqRecord` iterator into a list by using a single line `for` loop. By putting this loop in brackets `[]`, we convert the output to a list.\n",
    "\n",
    "Now, each entry in the `noronha_sequences` list has two **attributes**; the sequence (`.seq`) and the description (`.description`). Let's take a look at the sequence and description of the Noronha skink."
   ]
  },
  {
   "cell_type": "code",
   "execution_count": 4,
   "metadata": {
    "collapsed": false
   },
   "outputs": [
    {
     "name": "stdout",
     "output_type": "stream",
     "text": [
      "ttgtcttctaaataaagaccagtatgaacggctaaatgaggacaaacctgtctcttttaactaatcagtgaaactgatctcccagtacaaaagctgggatacaaacataagacgagaagaccccgtggagcttaaaacaaaaccaccaatcca--c------gccctgg-accctggtggactgttttgagttggggcgacttcggaataaaaagaaacttccgagcacagaaccac-aaattctaaccaaggccaacaagcctaagcata---taa-ctgacccggccc--acgccgatcaacgaaccaagttaccccggggataacagcgctatcttcttcaagagtccctatcaacaagaaggtttacgacctcgatgttggatcaggacacccaaatggtgcagccgctattaaaggttcgtttgttcaacgatt\n",
      "Mabuya atlantica isolate 1, Fernando de Noronha\n"
     ]
    }
   ],
   "source": [
    "# Look at the sequence and description of the first isolate.\n",
    "noronha_seq = noronha_sequences[0].seq\n",
    "noronha_desc = noronha_sequences[0].description\n",
    "print(noronha_seq)\n",
    "print(noronha_desc)"
   ]
  },
  {
   "cell_type": "markdown",
   "metadata": {},
   "source": [
    "Let's do this again with the skink sequences from other regions of the world.  "
   ]
  },
  {
   "cell_type": "code",
   "execution_count": 5,
   "metadata": {
    "collapsed": true
   },
   "outputs": [],
   "source": [
    "# Open the file with sequences from the rest of the world.\n",
    "with open('data/mabuya_atlantica/world_mabuya.txt', 'r') as seq:\n",
    "    world_file = Bio.SeqIO.parse(seq, 'fasta')\n",
    "    world_sequences = [record for record in world_file]"
   ]
  },
  {
   "cell_type": "markdown",
   "metadata": {},
   "source": [
    " Again, let's take a look at the sequence and description."
   ]
  },
  {
   "cell_type": "code",
   "execution_count": 6,
   "metadata": {
    "collapsed": false
   },
   "outputs": [
    {
     "name": "stdout",
     "output_type": "stream",
     "text": [
      "TTGTCTTTTAAATAAAGACCTGTATGAATGGCTGAATGAGGATAAACCTGTCTCTTATAACTAATCAGTGAAACTGATCTCCCAGTACAAAAGCTGGAATATACACATAAGACGAGAAGACCCTGTGGAGCTTAAAAC-AAACCACTAAACAA-----GT--ATACCACTACCTTAGTGTAC-GTTTTCAGTTGGGGCGACTTCGGAATAAAATGAAACTTCCGAGCACAGAGGCAC-TTCCTCTAACTAAGGCCAACAAGCCAAAGACCC---ATAAACGACCCGGCC---TTGCCGATCAACGAACCAAGTTACCCCAGGGATAACAGCGCAATCTTCTTCGAGAGCCCTTATCAACAAGAAGGTTTACGACCTCGATGTTGGATCAGGACACCCAAATGGTGCAGCCGCTATTAAAGGTTCGTTTGTTCAACGATT\n",
      "Mabuya agilis, SW Brazil; Mato Grosso do Sul\n"
     ]
    }
   ],
   "source": [
    "# Look at the sequence and description of a skink in Brazil\n",
    "brazil_seq = world_sequences[0].seq\n",
    "brazil_desc = world_sequences[0].description\n",
    "print(brazil_seq)\n",
    "print(brazil_desc)"
   ]
  },
  {
   "cell_type": "markdown",
   "metadata": {},
   "source": [
    "We see again that we have the DNA sequence (although this one is upper case) and its description (`Mabuya agilis, SW Brazil; Mato Grosso do Sul`). Now that we know how to load and store the sequence information from a file, let's take a look at how to actually perform sequence comparison. "
   ]
  },
  {
   "cell_type": "markdown",
   "metadata": {},
   "source": [
    "## Computing a similarity score "
   ]
  },
  {
   "cell_type": "markdown",
   "metadata": {},
   "source": [
    "We'll compare the sequences from our skink on Fernando de Noronha to those in other regions of the world. To do so, we'll simplify our analysis to only compare the number of mismatches at a given position in the sequence. This means that we will have to ignore any gaps in the sequence (denoted by '`-`' signifying an insertion or deletion in the reference genome). How do we define what is 'similar'? There are [myriad ways of scoring sequence similarity](https://www.ncbi.nlm.nih.gov/pmc/articles/PMC3820096/) and is a subject that people have thought very deeply about. To whet our appetite for sequence analysis, we will simply compute what percentage of the base pairs we compared are identical to each other. By this definition, organisms with a larger percent similarity are more similar to each other than those with a lower percent similarity. \n",
    "\n",
    "Programmatically, how do we compute this? Remember from the [Python syntax tutorial](t0c_python_syntax_and_plotting.html) we can index letters in a string much like we can numbers in an array or items of a list. To perform the comparison, we'll simply iterate over each position in a sequence and ask two questions:\n",
    "\n",
    "1. Is this position in either sequence a gap '`-`'? If so, we'll skip it and move to the next position.\n",
    "\n",
    "2. Is this position in sequence 1 the same in sequence 2? If so, we'll count that as a similarity and move on. Note that by this definition, the two bases must be the **same letter** and in the **same case**. This means we will have to convert our `brazil_seq` to lowercase before we perform the comparison.\n",
    "\n",
    "Before we begin the loop, we will need to make sure that the two sequences are the same length."
   ]
  },
  {
   "cell_type": "code",
   "execution_count": 7,
   "metadata": {
    "collapsed": false
   },
   "outputs": [
    {
     "name": "stdout",
     "output_type": "stream",
     "text": [
      "Our sequences are the same length: True\n"
     ]
    }
   ],
   "source": [
    "# Determine the length of the two sequences and make sure they are the same.\n",
    "noronha_length = len(noronha_seq)\n",
    "brazil_length = len(brazil_seq)\n",
    "compared_length = (noronha_length == brazil_length)  # Should be True\n",
    "print('Our sequences are the same length: ' + str(compared_length))"
   ]
  },
  {
   "cell_type": "markdown",
   "metadata": {},
   "source": [
    "Great! Now, we can go ahead and set up a `for` loop to compare our two example sequences. "
   ]
  },
  {
   "cell_type": "code",
   "execution_count": 8,
   "metadata": {
    "collapsed": false
   },
   "outputs": [
    {
     "name": "stdout",
     "output_type": "stream",
     "text": [
      "0.8878281622911695\n"
     ]
    }
   ],
   "source": [
    "# Convert the Brazil sequence to lowercase.\n",
    "brazil_seq = brazil_seq.lower()\n",
    "\n",
    "# Set up a counter to keep track of how many bases are identical.\n",
    "num_sim = 0\n",
    "\n",
    "# Set up a counter to keep track of how many positions we've compared.\n",
    "comp_length = 0\n",
    "\n",
    "# Iterate through each position in the sequences and compare.\n",
    "for base in range(brazil_length):\n",
    "    \n",
    "    # Make sure we are not comparing a gap.\n",
    "    if (noronha_seq[base] != '-') and (brazil_seq[base] != '-'):\n",
    "        \n",
    "        # Add one position to our counter of the comparison length.\n",
    "        comp_length += 1   # Note this is same as comp_length = comp_length + 1\n",
    "       \n",
    "        # Compare the position and each sequence.\n",
    "        if noronha_seq[base] == brazil_seq[base]:\n",
    "            \n",
    "            # If they are the same, add that to our counter.\n",
    "            num_sim += 1\n",
    "            \n",
    "# Now compute the percent similarity and print it.\n",
    "score = num_sim / comp_length\n",
    "print(score)"
   ]
  },
  {
   "cell_type": "markdown",
   "metadata": {},
   "source": [
    "Our analysis tells us that our sequences are approximately 89% similar. This makes some intuitive sense considering that Fernando de Noronha is only about 200 miles away from the coast of mainland Brazil. However, we have a few other sequences to analyze before we can come to a conclusion regarding their dispersal. Let's take a look at the two other localities (South Africa and Turkey) in our `world_mabuya.txt` file. We could type everything again by hand, but this would be a wonderful opportunity to write a **function**. \n",
    "\n",
    "Our function will do the following operations with two provided sequences, `seq_1` and `seq_2`.\n",
    "\n",
    "1. Ensure that `seq_1` and `seq_2` are the same length. If not, it will produce an error. For this, we'll include a `raise` statement with the `ValueError` exception.\n",
    "\n",
    "2. Convert both sequences to lowercase and iterate through each sequence and compare every position that is not a gap in either sequence. \n",
    "\n",
    "3. Complete and return the percent similarity between the two sequences.\n",
    "\n",
    "\n",
    "Let's give it a shot. "
   ]
  },
  {
   "cell_type": "code",
   "execution_count": 9,
   "metadata": {
    "collapsed": false
   },
   "outputs": [],
   "source": [
    "def compute_similarity(seq_1, seq_2):\n",
    "    \"\"\"\n",
    "    Computes the percent similarity between two sequences ignoring gaps. \n",
    "    \n",
    "    Parameters\n",
    "    ----------\n",
    "    seq_1, seq_2 : strings\n",
    "        DNA sequences to compare. These must be the same length.\n",
    "        \n",
    "    Returns\n",
    "    -------\n",
    "    score : float\n",
    "        The percent similarity between the two sequences. \n",
    "    \"\"\"\n",
    "    # Make sure they are the same length. \n",
    "    if len(seq_1) != len(seq_2):\n",
    "        raise ValueError('Sequences must be the same length!')\n",
    "        \n",
    "    # Make both sequences lowercase.\n",
    "    seq_1 = seq_1.lower()\n",
    "    seq_2 = seq_2.lower()\n",
    "        \n",
    "    # Set up counters of length and similarity.\n",
    "    comp_length = 0\n",
    "    num_sim = 0\n",
    "    \n",
    "    # Iterate through each position in the sequences.\n",
    "    for base in range(len(seq_1)):\n",
    "        \n",
    "        # Ensure we are not comparing gaps.\n",
    "        if (seq_1[base] != '-') and (seq_2[base] != '-'):\n",
    "            \n",
    "            # Increase the counter for compared length.\n",
    "            comp_length += 1\n",
    "            \n",
    "            # Compare the two positions.\n",
    "            if seq_1[base] == seq_2[base]:\n",
    "                \n",
    "                # Increase the similarity counter.\n",
    "                num_sim += 1\n",
    "                \n",
    "    # Compute and return the percent similarity.\n",
    "    score = num_sim  / comp_length\n",
    "    return score\n",
    "    "
   ]
  },
  {
   "cell_type": "markdown",
   "metadata": {},
   "source": [
    "To check our function, let's feed it the two sequences we've worked with for this entire tutorial. It should return a similarity of 0.8878. "
   ]
  },
  {
   "cell_type": "code",
   "execution_count": 10,
   "metadata": {
    "collapsed": false
   },
   "outputs": [
    {
     "name": "stdout",
     "output_type": "stream",
     "text": [
      "0.8878281622911695\n"
     ]
    }
   ],
   "source": [
    "# Test the function on our example sequences\n",
    "function_score = compute_similarity(noronha_seq, brazil_seq)\n",
    "print(function_score)"
   ]
  },
  {
   "cell_type": "markdown",
   "metadata": {},
   "source": [
    "Now, let's check that it fails when we give the function different sequences. "
   ]
  },
  {
   "cell_type": "code",
   "execution_count": 11,
   "metadata": {
    "collapsed": false
   },
   "outputs": [
    {
     "ename": "ValueError",
     "evalue": "Sequences must be the same length!",
     "output_type": "error",
     "traceback": [
      "\u001b[0;31m---------------------------------------------------------------------------\u001b[0m",
      "\u001b[0;31mValueError\u001b[0m                                Traceback (most recent call last)",
      "\u001b[0;32m<ipython-input-11-89abb3ac9b92>\u001b[0m in \u001b[0;36m<module>\u001b[0;34m()\u001b[0m\n\u001b[1;32m      4\u001b[0m \u001b[0;34m\u001b[0m\u001b[0m\n\u001b[1;32m      5\u001b[0m \u001b[0;31m# Run these through the function. This should give an error.\u001b[0m\u001b[0;34m\u001b[0m\u001b[0;34m\u001b[0m\u001b[0m\n\u001b[0;32m----> 6\u001b[0;31m \u001b[0mfailed_score\u001b[0m \u001b[0;34m=\u001b[0m \u001b[0mcompute_similarity\u001b[0m\u001b[0;34m(\u001b[0m\u001b[0mseq_1\u001b[0m\u001b[0;34m,\u001b[0m \u001b[0mseq_2\u001b[0m\u001b[0;34m)\u001b[0m\u001b[0;34m\u001b[0m\u001b[0m\n\u001b[0m",
      "\u001b[0;32m<ipython-input-9-f7c56fd3ddfe>\u001b[0m in \u001b[0;36mcompute_similarity\u001b[0;34m(seq_1, seq_2)\u001b[0m\n\u001b[1;32m     15\u001b[0m     \u001b[0;31m# Make sure they are the same length.\u001b[0m\u001b[0;34m\u001b[0m\u001b[0;34m\u001b[0m\u001b[0m\n\u001b[1;32m     16\u001b[0m     \u001b[0;32mif\u001b[0m \u001b[0mlen\u001b[0m\u001b[0;34m(\u001b[0m\u001b[0mseq_1\u001b[0m\u001b[0;34m)\u001b[0m \u001b[0;34m!=\u001b[0m \u001b[0mlen\u001b[0m\u001b[0;34m(\u001b[0m\u001b[0mseq_2\u001b[0m\u001b[0;34m)\u001b[0m\u001b[0;34m:\u001b[0m\u001b[0;34m\u001b[0m\u001b[0m\n\u001b[0;32m---> 17\u001b[0;31m         \u001b[0;32mraise\u001b[0m \u001b[0mValueError\u001b[0m\u001b[0;34m(\u001b[0m\u001b[0;34m'Sequences must be the same length!'\u001b[0m\u001b[0;34m)\u001b[0m\u001b[0;34m\u001b[0m\u001b[0m\n\u001b[0m\u001b[1;32m     18\u001b[0m \u001b[0;34m\u001b[0m\u001b[0m\n\u001b[1;32m     19\u001b[0m     \u001b[0;31m# Make both sequences lowercase.\u001b[0m\u001b[0;34m\u001b[0m\u001b[0;34m\u001b[0m\u001b[0m\n",
      "\u001b[0;31mValueError\u001b[0m: Sequences must be the same length!"
     ]
    }
   ],
   "source": [
    "# Generate sequences of dissimilar length.\n",
    "seq_1 = 'aTtAcg-a'\n",
    "seq_2 = 'ttac'\n",
    "\n",
    "# Run these through the function. This should give an error.\n",
    "failed_score = compute_similarity(seq_1, seq_2)"
   ]
  },
  {
   "cell_type": "markdown",
   "metadata": {},
   "source": [
    "Great! Now that we are confident that our function works as advertised, let's compare the three other localities to Fernando de Noronha. Rather than doing this over three separate times, we can throw it in a `for` loop."
   ]
  },
  {
   "cell_type": "code",
   "execution_count": 12,
   "metadata": {
    "collapsed": false
   },
   "outputs": [
    {
     "name": "stdout",
     "output_type": "stream",
     "text": [
      "Mabuya agilis, SW Brazil; Mato Grosso do Sul : Score = 0.8878281622911695\n",
      "Mabuya capensis, South Africa; Kuga Mts. E. Cape : Score = 0.9304556354916067\n",
      "Mabuya vittata, Turkey; Osmandere : Score = 0.9049881235154394\n"
     ]
    }
   ],
   "source": [
    "# Loop through the three other localities and print the result to the screen.\n",
    "for locale in world_sequences:\n",
    "    \n",
    "    # Compute the similarity.\n",
    "    score = compute_similarity(noronha_seq, locale.seq)\n",
    "    \n",
    "    # Print the locality and the score.\n",
    "    print(locale.description, ': Score = ' + str(score))"
   ]
  },
  {
   "cell_type": "markdown",
   "metadata": {},
   "source": [
    "It looks like the skink from Brazil is actually the *least* similar of the three locales we examined. These data are suggestive that the skinks of Fernando de Noronha arrived from somewhere on mainland Africa! "
   ]
  },
  {
   "cell_type": "markdown",
   "metadata": {},
   "source": [
    "## What we've learned "
   ]
  },
  {
   "cell_type": "markdown",
   "metadata": {},
   "source": [
    "In this tutorial, we've learned some basic principles of scripting in Python and using an open source module (Biopython) to read in sequence from a file and perform some rudimentary analysis. Furthermore, we've learned that through the use of DNA sequencing, we can assess some bold claims about the long distance travel of reptiles. \n",
    "In this week's homework, you will apply what we've learned here to a similar dispersal case study: the amphibians on São Tomé off of the west coast of Africa. In that problem, you will compare the *Ptychadena newtoni* on São Tomé to more than three amphibian species on mainland Africa."
   ]
  }
 ],
 "metadata": {
  "anaconda-cloud": {},
  "kernelspec": {
   "display_name": "Python 3",
   "language": "python",
   "name": "python3"
  },
  "language_info": {
   "codemirror_mode": {
    "name": "ipython",
    "version": 3
   },
   "file_extension": ".py",
   "mimetype": "text/x-python",
   "name": "python",
   "nbconvert_exporter": "python",
   "pygments_lexer": "ipython3",
   "version": "3.6.0"
  }
 },
 "nbformat": 4,
 "nbformat_minor": 1
}
