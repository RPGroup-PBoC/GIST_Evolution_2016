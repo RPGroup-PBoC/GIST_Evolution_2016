{
 "cells": [
  {
   "cell_type": "code",
   "execution_count": 1,
   "metadata": {},
   "outputs": [],
   "source": [
    "import matplotlib\n",
    "matplotlib.use('Qt5Agg')\n",
    "\n",
    "# Import the necessary things.\n",
    "import numpy as np\n",
    "import matplotlib.pyplot as plt\n",
    "import seaborn as sns\n",
    "import bar3"
   ]
  },
  {
   "cell_type": "code",
   "execution_count": 3,
   "metadata": {},
   "outputs": [
    {
     "name": "stderr",
     "output_type": "stream",
     "text": [
      "/Users/razo/anaconda3/lib/python3.6/site-packages/ipykernel_launcher.py:9: DeprecationWarning: `comb` is deprecated!\n",
      "Importing `comb` from scipy.misc is deprecated in scipy 1.0.0. Use `scipy.special.comb` instead.\n",
      "  if __name__ == '__main__':\n"
     ]
    }
   ],
   "source": [
    "import scipy.misc\n",
    "# Define some parameters\n",
    "N = 16  # number of individuals in the population\n",
    "P = np.zeros((2 * N + 1, 2 * N + 1))\n",
    "\n",
    "# Populate the matrix\n",
    "for i in range(2 * N + 1):\n",
    "    for j in range(2 * N + 1):\n",
    "        P[j, i] = scipy.misc.comb(2 * N, j) * (i / (2 * N))**j *\\\n",
    "            (1 - i / (2 * N))**(2 * N - j)\n",
    "\n",
    "\n",
    "# Now apply it to the generation vector\n",
    "n_gen = 40\n",
    "allele_freq = np.zeros((2 * N + 1, n_gen))\n",
    "allele_freq[N, 0] = 1.0\n",
    "\n",
    "# Apply the matrix on each generation\n",
    "for i in range(1, n_gen):\n",
    "    allele_freq[:, i] = np.dot(P, allele_freq[:, i - 1])\n",
    "\n",
    "bar3.bar3(allele_freq, xlabel='number of generations', ylabel='number of alleles', \n",
    "     zlabel='probability')\n",
    "plt.show()"
   ]
  },
  {
   "cell_type": "code",
   "execution_count": 3,
   "metadata": {},
   "outputs": [],
   "source": [
    "bar3?"
   ]
  },
  {
   "cell_type": "code",
   "execution_count": null,
   "metadata": {},
   "outputs": [],
   "source": []
  }
 ],
 "metadata": {
  "kernelspec": {
   "display_name": "Python 3",
   "language": "python",
   "name": "python3"
  },
  "language_info": {
   "codemirror_mode": {
    "name": "ipython",
    "version": 3
   },
   "file_extension": ".py",
   "mimetype": "text/x-python",
   "name": "python",
   "nbconvert_exporter": "python",
   "pygments_lexer": "ipython3",
   "version": "3.6.4"
  }
 },
 "nbformat": 4,
 "nbformat_minor": 2
}
